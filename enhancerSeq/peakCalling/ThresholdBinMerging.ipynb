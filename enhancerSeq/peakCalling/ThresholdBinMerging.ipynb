{
 "cells": [
  {
   "cell_type": "code",
   "execution_count": 10,
   "metadata": {
    "collapsed": true
   },
   "outputs": [],
   "source": [
    "%matplotlib inline \n",
    "import pandas as pd\n",
    "import numpy as np\n",
    "import matplotlib.pyplot as plt\n",
    "import seaborn as sns"
   ]
  },
  {
   "cell_type": "code",
   "execution_count": 8,
   "metadata": {
    "collapsed": false
   },
   "outputs": [
    {
     "name": "stdout",
     "output_type": "stream",
     "text": [
      "619146\n"
     ]
    },
    {
     "data": {
      "text/html": [
       "<div>\n",
       "<table border=\"1\" class=\"dataframe\">\n",
       "  <thead>\n",
       "    <tr style=\"text-align: right;\">\n",
       "      <th></th>\n",
       "      <th>chrom</th>\n",
       "      <th>start</th>\n",
       "      <th>end</th>\n",
       "      <th>cumulative_coverage</th>\n",
       "      <th>mean_coverage</th>\n",
       "      <th>control_mean_coverage</th>\n",
       "    </tr>\n",
       "  </thead>\n",
       "  <tbody>\n",
       "    <tr>\n",
       "      <th>334637</th>\n",
       "      <td>chr8</td>\n",
       "      <td>125095000</td>\n",
       "      <td>125100000</td>\n",
       "      <td>5005</td>\n",
       "      <td>1.0010</td>\n",
       "      <td>1.5212</td>\n",
       "    </tr>\n",
       "    <tr>\n",
       "      <th>312525</th>\n",
       "      <td>chr8</td>\n",
       "      <td>14535000</td>\n",
       "      <td>14540000</td>\n",
       "      <td>5006</td>\n",
       "      <td>1.0012</td>\n",
       "      <td>1.0356</td>\n",
       "    </tr>\n",
       "    <tr>\n",
       "      <th>332673</th>\n",
       "      <td>chr8</td>\n",
       "      <td>115275000</td>\n",
       "      <td>115280000</td>\n",
       "      <td>5006</td>\n",
       "      <td>1.0012</td>\n",
       "      <td>1.1320</td>\n",
       "    </tr>\n",
       "    <tr>\n",
       "      <th>202035</th>\n",
       "      <td>chr5</td>\n",
       "      <td>128540000</td>\n",
       "      <td>128545000</td>\n",
       "      <td>5006</td>\n",
       "      <td>1.0012</td>\n",
       "      <td>1.1590</td>\n",
       "    </tr>\n",
       "    <tr>\n",
       "      <th>415283</th>\n",
       "      <td>chr11</td>\n",
       "      <td>105210000</td>\n",
       "      <td>105215000</td>\n",
       "      <td>5009</td>\n",
       "      <td>1.0018</td>\n",
       "      <td>1.3004</td>\n",
       "    </tr>\n",
       "  </tbody>\n",
       "</table>\n",
       "</div>"
      ],
      "text/plain": [
       "        chrom      start        end  cumulative_coverage  mean_coverage  \\\n",
       "334637   chr8  125095000  125100000                 5005         1.0010   \n",
       "312525   chr8   14535000   14540000                 5006         1.0012   \n",
       "332673   chr8  115275000  115280000                 5006         1.0012   \n",
       "202035   chr5  128540000  128545000                 5006         1.0012   \n",
       "415283  chr11  105210000  105215000                 5009         1.0018   \n",
       "\n",
       "        control_mean_coverage  \n",
       "334637                 1.5212  \n",
       "312525                 1.0356  \n",
       "332673                 1.1320  \n",
       "202035                 1.1590  \n",
       "415283                 1.3004  "
      ]
     },
     "execution_count": 8,
     "metadata": {},
     "output_type": "execute_result"
    }
   ],
   "source": [
    "MINCOVERAGETHRESH = 1\n",
    "df = pd.read_csv(\"/Users/ethanbaker/Grace2/enhancerSeq/analysis/H1WG.SCP1.H1.R1_5kbWindowsVsControl_Calculations.txt\", sep='\\t')\n",
    "print(len(df.index))\n",
    "df.drop(\"log(enhancerSeq/control)\", axis=1, inplace=True)\n",
    "df.sort_values(['mean_coverage','control_mean_coverage'],inplace=True)\n",
    "df.drop(df[df.mean_coverage < MINCOVERAGETHRESH].index,inplace=True)\n",
    "df.drop(df[df.control_mean_coverage < MINCOVERAGETHRESH].index, inplace = True)\n",
    "df.head()"
   ]
  },
  {
   "cell_type": "code",
   "execution_count": 7,
   "metadata": {
    "collapsed": false
   },
   "outputs": [
    {
     "data": {
      "text/plain": [
       "544383"
      ]
     },
     "execution_count": 7,
     "metadata": {},
     "output_type": "execute_result"
    }
   ],
   "source": [
    "len(df.index)"
   ]
  },
  {
   "cell_type": "code",
   "execution_count": 9,
   "metadata": {
    "collapsed": false
   },
   "outputs": [
    {
     "data": {
      "text/html": [
       "<div>\n",
       "<table border=\"1\" class=\"dataframe\">\n",
       "  <thead>\n",
       "    <tr style=\"text-align: right;\">\n",
       "      <th></th>\n",
       "      <th>chrom</th>\n",
       "      <th>start</th>\n",
       "      <th>end</th>\n",
       "      <th>cumulative_coverage</th>\n",
       "      <th>mean_coverage</th>\n",
       "      <th>control_mean_coverage</th>\n",
       "      <th>FoldEnrichment</th>\n",
       "    </tr>\n",
       "  </thead>\n",
       "  <tbody>\n",
       "    <tr>\n",
       "      <th>421262</th>\n",
       "      <td>chr12</td>\n",
       "      <td>95000</td>\n",
       "      <td>100000</td>\n",
       "      <td>6188</td>\n",
       "      <td>1.2376</td>\n",
       "      <td>6.9086</td>\n",
       "      <td>0.179139</td>\n",
       "    </tr>\n",
       "    <tr>\n",
       "      <th>176329</th>\n",
       "      <td>chr5</td>\n",
       "      <td>10000</td>\n",
       "      <td>15000</td>\n",
       "      <td>54404</td>\n",
       "      <td>10.8808</td>\n",
       "      <td>52.6192</td>\n",
       "      <td>0.206784</td>\n",
       "    </tr>\n",
       "    <tr>\n",
       "      <th>106485</th>\n",
       "      <td>chr3</td>\n",
       "      <td>39970000</td>\n",
       "      <td>39975000</td>\n",
       "      <td>5347</td>\n",
       "      <td>1.0694</td>\n",
       "      <td>2.4600</td>\n",
       "      <td>0.434715</td>\n",
       "    </tr>\n",
       "    <tr>\n",
       "      <th>448011</th>\n",
       "      <td>chr12</td>\n",
       "      <td>133840000</td>\n",
       "      <td>133845000</td>\n",
       "      <td>26493</td>\n",
       "      <td>5.2986</td>\n",
       "      <td>11.8296</td>\n",
       "      <td>0.447910</td>\n",
       "    </tr>\n",
       "    <tr>\n",
       "      <th>143965</th>\n",
       "      <td>chr4</td>\n",
       "      <td>29345000</td>\n",
       "      <td>29350000</td>\n",
       "      <td>8033</td>\n",
       "      <td>1.6066</td>\n",
       "      <td>3.5590</td>\n",
       "      <td>0.451419</td>\n",
       "    </tr>\n",
       "  </tbody>\n",
       "</table>\n",
       "</div>"
      ],
      "text/plain": [
       "        chrom      start        end  cumulative_coverage  mean_coverage  \\\n",
       "421262  chr12      95000     100000                 6188         1.2376   \n",
       "176329   chr5      10000      15000                54404        10.8808   \n",
       "106485   chr3   39970000   39975000                 5347         1.0694   \n",
       "448011  chr12  133840000  133845000                26493         5.2986   \n",
       "143965   chr4   29345000   29350000                 8033         1.6066   \n",
       "\n",
       "        control_mean_coverage  FoldEnrichment  \n",
       "421262                 6.9086        0.179139  \n",
       "176329                52.6192        0.206784  \n",
       "106485                 2.4600        0.434715  \n",
       "448011                11.8296        0.447910  \n",
       "143965                 3.5590        0.451419  "
      ]
     },
     "execution_count": 9,
     "metadata": {},
     "output_type": "execute_result"
    }
   ],
   "source": [
    "df['FoldEnrichment'] = df[\"mean_coverage\"]/df[\"control_mean_coverage\"]\n",
    "df.sort_values(\"FoldEnrichment\", inplace=True)\n",
    "df.head()"
   ]
  },
  {
   "cell_type": "code",
   "execution_count": 11,
   "metadata": {
    "collapsed": false
   },
   "outputs": [
    {
     "data": {
      "image/png": "[encoded data removed]",
      "text/plain": [
       "<matplotlib.figure.Figure at 0x107798a20>"
      ]
     },
     "metadata": {},
     "output_type": "display_data"
    }
   ],
   "source": [
    "sns.set(style=\"whitegrid\", context = \"paper\")\n",
    "sns.distplot(df[\"FoldEnrichment\"],color='g')\n",
    "plt.xlabel(\"Fold Enrichment\")\n",
    "plt.show()"
   ]
  },
  {
   "cell_type": "code",
   "execution_count": 13,
   "metadata": {
    "collapsed": false
   },
   "outputs": [
    {
     "data": {
      "image/png": "[encoded data removed]",
      "text/plain": [
       "<matplotlib.figure.Figure at 0x110917be0>"
      ]
     },
     "metadata": {},
     "output_type": "display_data"
    }
   ],
   "source": [
    "plt.clf()\n",
    "sns.set(style=\"whitegrid\", context = \"paper\")\n",
    "sns.boxplot(df[\"FoldEnrichment\"], color='g')\n",
    "plt.xlabel(\"Fold Enrichment\")\n",
    "plt.show()"
   ]
  },
  {
   "cell_type": "code",
   "execution_count": 14,
   "metadata": {
    "collapsed": false
   },
   "outputs": [
    {
     "data": {
      "text/html": [
       "<div>\n",
       "<table border=\"1\" class=\"dataframe\">\n",
       "  <thead>\n",
       "    <tr style=\"text-align: right;\">\n",
       "      <th></th>\n",
       "      <th>chrom</th>\n",
       "      <th>start</th>\n",
       "      <th>end</th>\n",
       "      <th>cumulative_coverage</th>\n",
       "      <th>mean_coverage</th>\n",
       "      <th>control_mean_coverage</th>\n",
       "      <th>FoldEnrichment</th>\n",
       "      <th>logFoldEnrichment</th>\n",
       "    </tr>\n",
       "  </thead>\n",
       "  <tbody>\n",
       "    <tr>\n",
       "      <th>421262</th>\n",
       "      <td>chr12</td>\n",
       "      <td>95000</td>\n",
       "      <td>100000</td>\n",
       "      <td>6188</td>\n",
       "      <td>1.2376</td>\n",
       "      <td>6.9086</td>\n",
       "      <td>0.179139</td>\n",
       "      <td>-1.719593</td>\n",
       "    </tr>\n",
       "    <tr>\n",
       "      <th>176329</th>\n",
       "      <td>chr5</td>\n",
       "      <td>10000</td>\n",
       "      <td>15000</td>\n",
       "      <td>54404</td>\n",
       "      <td>10.8808</td>\n",
       "      <td>52.6192</td>\n",
       "      <td>0.206784</td>\n",
       "      <td>-1.576081</td>\n",
       "    </tr>\n",
       "    <tr>\n",
       "      <th>106485</th>\n",
       "      <td>chr3</td>\n",
       "      <td>39970000</td>\n",
       "      <td>39975000</td>\n",
       "      <td>5347</td>\n",
       "      <td>1.0694</td>\n",
       "      <td>2.4600</td>\n",
       "      <td>0.434715</td>\n",
       "      <td>-0.833064</td>\n",
       "    </tr>\n",
       "    <tr>\n",
       "      <th>448011</th>\n",
       "      <td>chr12</td>\n",
       "      <td>133840000</td>\n",
       "      <td>133845000</td>\n",
       "      <td>26493</td>\n",
       "      <td>5.2986</td>\n",
       "      <td>11.8296</td>\n",
       "      <td>0.447910</td>\n",
       "      <td>-0.803162</td>\n",
       "    </tr>\n",
       "    <tr>\n",
       "      <th>143965</th>\n",
       "      <td>chr4</td>\n",
       "      <td>29345000</td>\n",
       "      <td>29350000</td>\n",
       "      <td>8033</td>\n",
       "      <td>1.6066</td>\n",
       "      <td>3.5590</td>\n",
       "      <td>0.451419</td>\n",
       "      <td>-0.795359</td>\n",
       "    </tr>\n",
       "  </tbody>\n",
       "</table>\n",
       "</div>"
      ],
      "text/plain": [
       "        chrom      start        end  cumulative_coverage  mean_coverage  \\\n",
       "421262  chr12      95000     100000                 6188         1.2376   \n",
       "176329   chr5      10000      15000                54404        10.8808   \n",
       "106485   chr3   39970000   39975000                 5347         1.0694   \n",
       "448011  chr12  133840000  133845000                26493         5.2986   \n",
       "143965   chr4   29345000   29350000                 8033         1.6066   \n",
       "\n",
       "        control_mean_coverage  FoldEnrichment  logFoldEnrichment  \n",
       "421262                 6.9086        0.179139          -1.719593  \n",
       "176329                52.6192        0.206784          -1.576081  \n",
       "106485                 2.4600        0.434715          -0.833064  \n",
       "448011                11.8296        0.447910          -0.803162  \n",
       "143965                 3.5590        0.451419          -0.795359  "
      ]
     },
     "execution_count": 14,
     "metadata": {},
     "output_type": "execute_result"
    }
   ],
   "source": [
    "df[\"logFoldEnrichment\"] = np.log(df[\"FoldEnrichment\"])\n",
    "df.head()"
   ]
  },
  {
   "cell_type": "code",
   "execution_count": 15,
   "metadata": {
    "collapsed": false
   },
   "outputs": [
    {
     "data": {
      "image/png": "[encoded data removed]",
      "text/plain": [
       "<matplotlib.figure.Figure at 0x10dd01780>"
      ]
     },
     "metadata": {},
     "output_type": "display_data"
    }
   ],
   "source": [
    "plt.clf()\n",
    "sns.set(style=\"whitegrid\", context = \"paper\")\n",
    "sns.distplot(df[\"logFoldEnrichment\"],color='g')\n",
    "plt.xlabel(\"ln(Fold Enrichment)\")\n",
    "plt.show()"
   ]
  },
  {
   "cell_type": "code",
   "execution_count": 16,
   "metadata": {
    "collapsed": false
   },
   "outputs": [
    {
     "data": {
      "image/png": "[encoded data removed]",
      "text/plain": [
       "<matplotlib.figure.Figure at 0x10e0c9f60>"
      ]
     },
     "metadata": {},
     "output_type": "display_data"
    }
   ],
   "source": [
    "plt.clf()\n",
    "sns.set(style=\"whitegrid\", context = \"paper\")\n",
    "sns.boxplot(df[\"logFoldEnrichment\"],color='g')\n",
    "plt.xlabel(\"ln(Fold Enrichment)\")\n",
    "plt.show()"
   ]
  },
  {
   "cell_type": "code",
   "execution_count": null,
   "metadata": {
    "collapsed": true
   },
   "outputs": [],
   "source": []
  }
 ],
 "metadata": {
  "kernelspec": {
   "display_name": "Python 3",
   "language": "python",
   "name": "python3"
  },
  "language_info": {
   "codemirror_mode": {
    "name": "ipython",
    "version": 3
   },
   "file_extension": ".py",
   "mimetype": "text/x-python",
   "name": "python",
   "nbconvert_exporter": "python",
   "pygments_lexer": "ipython3",
   "version": "3.5.2"
  }
 },
 "nbformat": 4,
 "nbformat_minor": 0
}
