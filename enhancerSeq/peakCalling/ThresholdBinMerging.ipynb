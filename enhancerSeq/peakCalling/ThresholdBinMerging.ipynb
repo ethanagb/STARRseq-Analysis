{
 "cells": [
  {
   "cell_type": "code",
   "execution_count": 10,
   "metadata": {
    "collapsed": true
   },
   "outputs": [],
   "source": [
    "%matplotlib inline \n",
    "import pandas as pd\n",
    "import numpy as np\n",
    "import matplotlib.pyplot as plt\n",
    "import seaborn as sns"
   ]
  },
  {
   "cell_type": "code",
   "execution_count": 8,
   "metadata": {
    "collapsed": false
   },
   "outputs": [
    {
     "name": "stdout",
     "output_type": "stream",
     "text": [
      "619146\n"
     ]
    },
    {
     "data": {
      "text/html": [
       "<div>\n",
       "<table border=\"1\" class=\"dataframe\">\n",
       "  <thead>\n",
       "    <tr style=\"text-align: right;\">\n",
       "      <th></th>\n",
       "      <th>chrom</th>\n",
       "      <th>start</th>\n",
       "      <th>end</th>\n",
       "      <th>cumulative_coverage</th>\n",
       "      <th>mean_coverage</th>\n",
       "      <th>control_mean_coverage</th>\n",
       "    </tr>\n",
       "  </thead>\n",
       "  <tbody>\n",
       "    <tr>\n",
       "      <th>334637</th>\n",
       "      <td>chr8</td>\n",
       "      <td>125095000</td>\n",
       "      <td>125100000</td>\n",
       "      <td>5005</td>\n",
       "      <td>1.0010</td>\n",
       "      <td>1.5212</td>\n",
       "    </tr>\n",
       "    <tr>\n",
       "      <th>312525</th>\n",
       "      <td>chr8</td>\n",
       "      <td>14535000</td>\n",
       "      <td>14540000</td>\n",
       "      <td>5006</td>\n",
       "      <td>1.0012</td>\n",
       "      <td>1.0356</td>\n",
       "    </tr>\n",
       "    <tr>\n",
       "      <th>332673</th>\n",
       "      <td>chr8</td>\n",
       "      <td>115275000</td>\n",
       "      <td>115280000</td>\n",
       "      <td>5006</td>\n",
       "      <td>1.0012</td>\n",
       "      <td>1.1320</td>\n",
       "    </tr>\n",
       "    <tr>\n",
       "      <th>202035</th>\n",
       "      <td>chr5</td>\n",
       "      <td>128540000</td>\n",
       "      <td>128545000</td>\n",
       "      <td>5006</td>\n",
       "      <td>1.0012</td>\n",
       "      <td>1.1590</td>\n",
       "    </tr>\n",
       "    <tr>\n",
       "      <th>415283</th>\n",
       "      <td>chr11</td>\n",
       "      <td>105210000</td>\n",
       "      <td>105215000</td>\n",
       "      <td>5009</td>\n",
       "      <td>1.0018</td>\n",
       "      <td>1.3004</td>\n",
       "    </tr>\n",
       "  </tbody>\n",
       "</table>\n",
       "</div>"
      ],
      "text/plain": [
       "        chrom      start        end  cumulative_coverage  mean_coverage  \\\n",
       "334637   chr8  125095000  125100000                 5005         1.0010   \n",
       "312525   chr8   14535000   14540000                 5006         1.0012   \n",
       "332673   chr8  115275000  115280000                 5006         1.0012   \n",
       "202035   chr5  128540000  128545000                 5006         1.0012   \n",
       "415283  chr11  105210000  105215000                 5009         1.0018   \n",
       "\n",
       "        control_mean_coverage  \n",
       "334637                 1.5212  \n",
       "312525                 1.0356  \n",
       "332673                 1.1320  \n",
       "202035                 1.1590  \n",
       "415283                 1.3004  "
      ]
     },
     "execution_count": 8,
     "metadata": {},
     "output_type": "execute_result"
    }
   ],
   "source": [
    "MINCOVERAGETHRESH = 1\n",
    "df = pd.read_csv(\"/Users/ethanbaker/Grace2/enhancerSeq/analysis/H1WG.SCP1.H1.R1_5kbWindowsVsControl_Calculations.txt\", sep='\\t')\n",
    "print(len(df.index))\n",
    "df.drop(\"log(enhancerSeq/control)\", axis=1, inplace=True)\n",
    "df.sort_values(['mean_coverage','control_mean_coverage'],inplace=True)\n",
    "df.drop(df[df.mean_coverage < MINCOVERAGETHRESH].index,inplace=True)\n",
    "df.drop(df[df.control_mean_coverage < MINCOVERAGETHRESH].index, inplace = True)\n",
    "df.head()"
   ]
  },
  {
   "cell_type": "code",
   "execution_count": 7,
   "metadata": {
    "collapsed": false
   },
   "outputs": [
    {
     "data": {
      "text/plain": [
       "544383"
      ]
     },
     "execution_count": 7,
     "metadata": {},
     "output_type": "execute_result"
    }
   ],
   "source": [
    "len(df.index)"
   ]
  },
  {
   "cell_type": "code",
   "execution_count": 9,
   "metadata": {
    "collapsed": false
   },
   "outputs": [
    {
     "data": {
      "text/html": [
       "<div>\n",
       "<table border=\"1\" class=\"dataframe\">\n",
       "  <thead>\n",
       "    <tr style=\"text-align: right;\">\n",
       "      <th></th>\n",
       "      <th>chrom</th>\n",
       "      <th>start</th>\n",
       "      <th>end</th>\n",
       "      <th>cumulative_coverage</th>\n",
       "      <th>mean_coverage</th>\n",
       "      <th>control_mean_coverage</th>\n",
       "      <th>FoldEnrichment</th>\n",
       "    </tr>\n",
       "  </thead>\n",
       "  <tbody>\n",
       "    <tr>\n",
       "      <th>421262</th>\n",
       "      <td>chr12</td>\n",
       "      <td>95000</td>\n",
       "      <td>100000</td>\n",
       "      <td>6188</td>\n",
       "      <td>1.2376</td>\n",
       "      <td>6.9086</td>\n",
       "      <td>0.179139</td>\n",
       "    </tr>\n",
       "    <tr>\n",
       "      <th>176329</th>\n",
       "      <td>chr5</td>\n",
       "      <td>10000</td>\n",
       "      <td>15000</td>\n",
       "      <td>54404</td>\n",
       "      <td>10.8808</td>\n",
       "      <td>52.6192</td>\n",
       "      <td>0.206784</td>\n",
       "    </tr>\n",
       "    <tr>\n",
       "      <th>106485</th>\n",
       "      <td>chr3</td>\n",
       "      <td>39970000</td>\n",
       "      <td>39975000</td>\n",
       "      <td>5347</td>\n",
       "      <td>1.0694</td>\n",
       "      <td>2.4600</td>\n",
       "      <td>0.434715</td>\n",
       "    </tr>\n",
       "    <tr>\n",
       "      <th>448011</th>\n",
       "      <td>chr12</td>\n",
       "      <td>133840000</td>\n",
       "      <td>133845000</td>\n",
       "      <td>26493</td>\n",
       "      <td>5.2986</td>\n",
       "      <td>11.8296</td>\n",
       "      <td>0.447910</td>\n",
       "    </tr>\n",
       "    <tr>\n",
       "      <th>143965</th>\n",
       "      <td>chr4</td>\n",
       "      <td>29345000</td>\n",
       "      <td>29350000</td>\n",
       "      <td>8033</td>\n",
       "      <td>1.6066</td>\n",
       "      <td>3.5590</td>\n",
       "      <td>0.451419</td>\n",
       "    </tr>\n",
       "  </tbody>\n",
       "</table>\n",
       "</div>"
      ],
      "text/plain": [
       "        chrom      start        end  cumulative_coverage  mean_coverage  \\\n",
       "421262  chr12      95000     100000                 6188         1.2376   \n",
       "176329   chr5      10000      15000                54404        10.8808   \n",
       "106485   chr3   39970000   39975000                 5347         1.0694   \n",
       "448011  chr12  133840000  133845000                26493         5.2986   \n",
       "143965   chr4   29345000   29350000                 8033         1.6066   \n",
       "\n",
       "        control_mean_coverage  FoldEnrichment  \n",
       "421262                 6.9086        0.179139  \n",
       "176329                52.6192        0.206784  \n",
       "106485                 2.4600        0.434715  \n",
       "448011                11.8296        0.447910  \n",
       "143965                 3.5590        0.451419  "
      ]
     },
     "execution_count": 9,
     "metadata": {},
     "output_type": "execute_result"
    }
   ],
   "source": [
    "df['FoldEnrichment'] = df[\"mean_coverage\"]/df[\"control_mean_coverage\"]\n",
    "df.sort_values(\"FoldEnrichment\", inplace=True)\n",
    "df.head()"
   ]
  },
  {
   "cell_type": "code",
   "execution_count": 11,
   "metadata": {
    "collapsed": false
   },
   "outputs": [
    {
     "data": {
      "image/png": "[encoded data removed]",
      "text/plain": [
       "<matplotlib.figure.Figure at 0x107798a20>"
      ]
     },
     "metadata": {},
     "output_type": "display_data"
    }
   ],
   "source": [
    "sns.set(style=\"whitegrid\", context = \"paper\")\n",
    "sns.distplot(df[\"FoldEnrichment\"],color='g')\n",
    "plt.xlabel(\"Fold Enrichment\")\n",
    "plt.show()"
   ]
  },
  {
   "cell_type": "code",
   "execution_count": 13,
   "metadata": {
    "collapsed": false
   },
   "outputs": [
    {
     "data": {
      "image/png": "[encoded data removed]",
      "text/plain": [
       "<matplotlib.figure.Figure at 0x110917be0>"
      ]
     },
     "metadata": {},
     "output_type": "display_data"
    }
   ],
   "source": [
    "plt.clf()\n",
    "sns.set(style=\"whitegrid\", context = \"paper\")\n",
    "sns.boxplot(df[\"FoldEnrichment\"], color='g')\n",
    "plt.xlabel(\"Fold Enrichment\")\n",
    "plt.show()"
   ]
  },
  {
   "cell_type": "code",
   "execution_count": 14,
   "metadata": {
    "collapsed": false
   },
   "outputs": [
    {
     "data": {
      "text/html": [
       "<div>\n",
       "<table border=\"1\" class=\"dataframe\">\n",
       "  <thead>\n",
       "    <tr style=\"text-align: right;\">\n",
       "      <th></th>\n",
       "      <th>chrom</th>\n",
       "      <th>start</th>\n",
       "      <th>end</th>\n",
       "      <th>cumulative_coverage</th>\n",
       "      <th>mean_coverage</th>\n",
       "      <th>control_mean_coverage</th>\n",
       "      <th>FoldEnrichment</th>\n",
       "      <th>logFoldEnrichment</th>\n",
       "    </tr>\n",
       "  </thead>\n",
       "  <tbody>\n",
       "    <tr>\n",
       "      <th>421262</th>\n",
       "      <td>chr12</td>\n",
       "      <td>95000</td>\n",
       "      <td>100000</td>\n",
       "      <td>6188</td>\n",
       "      <td>1.2376</td>\n",
       "      <td>6.9086</td>\n",
       "      <td>0.179139</td>\n",
       "      <td>-1.719593</td>\n",
       "    </tr>\n",
       "    <tr>\n",
       "      <th>176329</th>\n",
       "      <td>chr5</td>\n",
       "      <td>10000</td>\n",
       "      <td>15000</td>\n",
       "      <td>54404</td>\n",
       "      <td>10.8808</td>\n",
       "      <td>52.6192</td>\n",
       "      <td>0.206784</td>\n",
       "      <td>-1.576081</td>\n",
       "    </tr>\n",
       "    <tr>\n",
       "      <th>106485</th>\n",
       "      <td>chr3</td>\n",
       "      <td>39970000</td>\n",
       "      <td>39975000</td>\n",
       "      <td>5347</td>\n",
       "      <td>1.0694</td>\n",
       "      <td>2.4600</td>\n",
       "      <td>0.434715</td>\n",
       "      <td>-0.833064</td>\n",
       "    </tr>\n",
       "    <tr>\n",
       "      <th>448011</th>\n",
       "      <td>chr12</td>\n",
       "      <td>133840000</td>\n",
       "      <td>133845000</td>\n",
       "      <td>26493</td>\n",
       "      <td>5.2986</td>\n",
       "      <td>11.8296</td>\n",
       "      <td>0.447910</td>\n",
       "      <td>-0.803162</td>\n",
       "    </tr>\n",
       "    <tr>\n",
       "      <th>143965</th>\n",
       "      <td>chr4</td>\n",
       "      <td>29345000</td>\n",
       "      <td>29350000</td>\n",
       "      <td>8033</td>\n",
       "      <td>1.6066</td>\n",
       "      <td>3.5590</td>\n",
       "      <td>0.451419</td>\n",
       "      <td>-0.795359</td>\n",
       "    </tr>\n",
       "  </tbody>\n",
       "</table>\n",
       "</div>"
      ],
      "text/plain": [
       "        chrom      start        end  cumulative_coverage  mean_coverage  \\\n",
       "421262  chr12      95000     100000                 6188         1.2376   \n",
       "176329   chr5      10000      15000                54404        10.8808   \n",
       "106485   chr3   39970000   39975000                 5347         1.0694   \n",
       "448011  chr12  133840000  133845000                26493         5.2986   \n",
       "143965   chr4   29345000   29350000                 8033         1.6066   \n",
       "\n",
       "        control_mean_coverage  FoldEnrichment  logFoldEnrichment  \n",
       "421262                 6.9086        0.179139          -1.719593  \n",
       "176329                52.6192        0.206784          -1.576081  \n",
       "106485                 2.4600        0.434715          -0.833064  \n",
       "448011                11.8296        0.447910          -0.803162  \n",
       "143965                 3.5590        0.451419          -0.795359  "
      ]
     },
     "execution_count": 14,
     "metadata": {},
     "output_type": "execute_result"
    }
   ],
   "source": [
    "df[\"logFoldEnrichment\"] = np.log(df[\"FoldEnrichment\"])\n",
    "df.head()"
   ]
  },
  {
   "cell_type": "code",
   "execution_count": 15,
   "metadata": {
    "collapsed": false
   },
   "outputs": [
    {
     "data": {
      "image/png": "[encoded data removed]",
      "text/plain": [
       "<matplotlib.figure.Figure at 0x10dd01780>"
      ]
     },
     "metadata": {},
     "output_type": "display_data"
    }
   ],
   "source": [
    "plt.clf()\n",
    "sns.set(style=\"whitegrid\", context = \"paper\")\n",
    "sns.distplot(df[\"logFoldEnrichment\"],color='g')\n",
    "plt.xlabel(\"ln(Fold Enrichment)\")\n",
    "plt.show()"
   ]
  },
  {
   "cell_type": "code",
   "execution_count": 17,
   "metadata": {
    "collapsed": false
   },
   "outputs": [
    {
     "data": {
      "image/png": "[encoded data removed]",
      "text/plain": [
       "<matplotlib.figure.Figure at 0x1111cce10>"
      ]
     },
     "metadata": {},
     "output_type": "display_data"
    }
   ],
   "source": [
    "plt.clf()\n",
    "sns.set(style=\"whitegrid\", context = \"paper\")\n",
    "sns.violinplot(df[\"logFoldEnrichment\"],color='g')\n",
    "plt.xlabel(\"ln(Fold Enrichment)\")\n",
    "plt.show()"
   ]
  },
  {
   "cell_type": "code",
   "execution_count": 22,
   "metadata": {
    "collapsed": false
   },
   "outputs": [
    {
     "name": "stdout",
     "output_type": "stream",
     "text": [
      "108877\n"
     ]
    },
    {
     "name": "stderr",
     "output_type": "stream",
     "text": [
      "/usr/local/lib/python3.5/site-packages/ipykernel/__main__.py:4: SettingWithCopyWarning: \n",
      "A value is trying to be set on a copy of a slice from a DataFrame\n",
      "\n",
      "See the caveats in the documentation: http://pandas.pydata.org/pandas-docs/stable/indexing.html#indexing-view-versus-copy\n"
     ]
    },
    {
     "data": {
      "text/html": [
       "<div>\n",
       "<table border=\"1\" class=\"dataframe\">\n",
       "  <thead>\n",
       "    <tr style=\"text-align: right;\">\n",
       "      <th></th>\n",
       "      <th>chrom</th>\n",
       "      <th>start</th>\n",
       "      <th>end</th>\n",
       "      <th>cumulative_coverage</th>\n",
       "      <th>mean_coverage</th>\n",
       "      <th>control_mean_coverage</th>\n",
       "      <th>FoldEnrichment</th>\n",
       "      <th>logFoldEnrichment</th>\n",
       "    </tr>\n",
       "  </thead>\n",
       "  <tbody>\n",
       "    <tr>\n",
       "      <th>56479</th>\n",
       "      <td>chr2</td>\n",
       "      <td>33140000</td>\n",
       "      <td>33145000</td>\n",
       "      <td>6168410</td>\n",
       "      <td>1233.6820</td>\n",
       "      <td>27.6282</td>\n",
       "      <td>44.652999</td>\n",
       "      <td>3.798921</td>\n",
       "    </tr>\n",
       "    <tr>\n",
       "      <th>141498</th>\n",
       "      <td>chr4</td>\n",
       "      <td>17010000</td>\n",
       "      <td>17015000</td>\n",
       "      <td>884841</td>\n",
       "      <td>176.9682</td>\n",
       "      <td>6.2510</td>\n",
       "      <td>28.310382</td>\n",
       "      <td>3.343229</td>\n",
       "    </tr>\n",
       "    <tr>\n",
       "      <th>322586</th>\n",
       "      <td>chr8</td>\n",
       "      <td>64840000</td>\n",
       "      <td>64845000</td>\n",
       "      <td>348462</td>\n",
       "      <td>69.6924</td>\n",
       "      <td>3.8998</td>\n",
       "      <td>17.870763</td>\n",
       "      <td>2.883166</td>\n",
       "    </tr>\n",
       "    <tr>\n",
       "      <th>343131</th>\n",
       "      <td>chr9</td>\n",
       "      <td>21200000</td>\n",
       "      <td>21205000</td>\n",
       "      <td>112445</td>\n",
       "      <td>22.4890</td>\n",
       "      <td>1.3114</td>\n",
       "      <td>17.148849</td>\n",
       "      <td>2.841931</td>\n",
       "    </tr>\n",
       "    <tr>\n",
       "      <th>102252</th>\n",
       "      <td>chr3</td>\n",
       "      <td>18805000</td>\n",
       "      <td>18810000</td>\n",
       "      <td>245135</td>\n",
       "      <td>49.0270</td>\n",
       "      <td>3.1296</td>\n",
       "      <td>15.665580</td>\n",
       "      <td>2.751466</td>\n",
       "    </tr>\n",
       "  </tbody>\n",
       "</table>\n",
       "</div>"
      ],
      "text/plain": [
       "       chrom     start       end  cumulative_coverage  mean_coverage  \\\n",
       "56479   chr2  33140000  33145000              6168410      1233.6820   \n",
       "141498  chr4  17010000  17015000               884841       176.9682   \n",
       "322586  chr8  64840000  64845000               348462        69.6924   \n",
       "343131  chr9  21200000  21205000               112445        22.4890   \n",
       "102252  chr3  18805000  18810000               245135        49.0270   \n",
       "\n",
       "        control_mean_coverage  FoldEnrichment  logFoldEnrichment  \n",
       "56479                 27.6282       44.652999           3.798921  \n",
       "141498                 6.2510       28.310382           3.343229  \n",
       "322586                 3.8998       17.870763           2.883166  \n",
       "343131                 1.3114       17.148849           2.841931  \n",
       "102252                 3.1296       15.665580           2.751466  "
      ]
     },
     "execution_count": 22,
     "metadata": {},
     "output_type": "execute_result"
    }
   ],
   "source": [
    "R1_20th = np.percentile(df[\"logFoldEnrichment\"],80)\n",
    "R1_top20 = df[df.logFoldEnrichment >= R1_10th]\n",
    "print(len(R1_top20.index))\n",
    "R1_top20.sort_values(\"logFoldEnrichment\",inplace=True, ascending=False)\n",
    "R1_top20.head()"
   ]
  },
  {
   "cell_type": "code",
   "execution_count": 82,
   "metadata": {
    "collapsed": false
   },
   "outputs": [
    {
     "name": "stderr",
     "output_type": "stream",
     "text": [
      "/usr/local/lib/python3.5/site-packages/ipykernel/__main__.py:1: SettingWithCopyWarning: \n",
      "A value is trying to be set on a copy of a slice from a DataFrame\n",
      "\n",
      "See the caveats in the documentation: http://pandas.pydata.org/pandas-docs/stable/indexing.html#indexing-view-versus-copy\n",
      "  if __name__ == '__main__':\n"
     ]
    }
   ],
   "source": [
    "R1_top20.sort_values([\"chrom\",\"start\"], inplace=True)\n",
    "R1_top20.head()\n",
    "R1_top20.to_csv('/Users/ethanbaker/Documents/GersteinLab/peakEnrichment.bed', sep = '\\t', header = False, index = False, columns = ['chrom','start','end','FoldEnrichment'])"
   ]
  },
  {
   "cell_type": "code",
   "execution_count": 39,
   "metadata": {
    "collapsed": false
   },
   "outputs": [
    {
     "name": "stdout",
     "output_type": "stream",
     "text": [
      "23186\n"
     ]
    }
   ],
   "source": [
    "R1_top20.index\n",
    "needMerging = []\n",
    "needMergingIndexPosition = []\n",
    "for i in range(len(R1_top20.index)):\n",
    "    if i == 0:\n",
    "        pass\n",
    "    elif R1_top20.index[i] == (R1_top20.index[i-1]+1):\n",
    "        needMerging.append(i)\n",
    "print(len(needMerging))\n",
    "        "
   ]
  },
  {
   "cell_type": "code",
   "execution_count": 74,
   "metadata": {
    "collapsed": false
   },
   "outputs": [
    {
     "name": "stdout",
     "output_type": "stream",
     "text": [
      "395172\n",
      "chrom                      chr11\n",
      "start                    4655000\n",
      "end                      4660000\n",
      "cumulative_coverage       140184\n",
      "mean_coverage            28.0368\n",
      "control_mean_coverage     8.3132\n",
      "FoldEnrichment           3.37256\n",
      "logFoldEnrichment        1.21567\n",
      "Name: 395172, dtype: object\n",
      "1\n",
      "chrom                      chr11\n",
      "start                    4655000\n",
      "end                      4660000\n",
      "cumulative_coverage       140184\n",
      "mean_coverage            28.0368\n",
      "control_mean_coverage     8.3132\n",
      "FoldEnrichment           3.37256\n",
      "logFoldEnrichment        1.21567\n",
      "Name: 395172, dtype: object\n",
      "chrom                       chr11\n",
      "start                     4650000\n",
      "end                       4655000\n",
      "cumulative_coverage         18346\n",
      "mean_coverage              3.6692\n",
      "control_mean_coverage      1.9344\n",
      "FoldEnrichment            1.89682\n",
      "logFoldEnrichment        0.640176\n",
      "Name: 395171, dtype: object\n",
      "chrom                       chr11\n",
      "start                     4650000\n",
      "end                       4655000\n",
      "cumulative_coverage         18346\n",
      "mean_coverage              3.6692\n",
      "control_mean_coverage      1.9344\n",
      "FoldEnrichment            1.89682\n",
      "logFoldEnrichment        0.640176\n",
      "Name: 395171, dtype: object\n"
     ]
    }
   ],
   "source": [
    "#identification of bins + previous bins\n",
    "print(R1_top20.index[13805])\n",
    "print(R1_top20.loc[R1_top20.index[13805]])\n",
    "print(needMerging[0])\n",
    "print(R1_top20.iloc[13805])\n",
    "print(df.loc[R1_top20.iloc[13805].name-1])\n",
    "print(df.loc[395171])"
   ]
  },
  {
   "cell_type": "code",
   "execution_count": 79,
   "metadata": {
    "collapsed": false
   },
   "outputs": [
    {
     "name": "stdout",
     "output_type": "stream",
     "text": [
      "163\n"
     ]
    }
   ],
   "source": [
    "needMergingPriorBin = [n-1 for n in needMerging]\n",
    "mergedR1 = pd.DataFrame(columns=['chrom','start','end','cumulative_coverage','mean_coverage','control_mean_coverage','FoldEnrichment','logFoldEnrichment'])\n",
    "errors = []\n",
    "for x in R1_top20.index:\n",
    "    try:\n",
    "        if x not in needMerging and x not in needMergingPriorBin:\n",
    "            try:\n",
    "                mergedR1 = mergedR1.append(R1_top20.loc[R1_top20.index[x]])\n",
    "            except IndexError:\n",
    "                pass\n",
    "\n",
    "        else:\n",
    "            secondRow = R1_top20.loc[R1_top20.index[x]]\n",
    "            firstRow = df.loc[R1_top20.iloc[int(x)].name-1]\n",
    "            mergedChrom = secondRow.chrom\n",
    "            mergedStart = firstRow.start\n",
    "            mergedEnd = secondRow.end\n",
    "            mergedCumCoverage = (secondRow.cumulative_coverage + firstRow.cumulative_coverage)/float(2)\n",
    "            mergedMeanCoverage = (secondRow.mean_coverage + firstRow.mean_coverage)/float(2)\n",
    "            mergedCtrlMeanCoverage = (secondRow.control_mean_coverage + firstRow.control_mean_coverage)/float(2)\n",
    "            mergedFoldCoverage = (mergedMeanCoverage/mergedCtrlMeanCoverage)\n",
    "            mergedLogFoldCoverage = np.log(mergedFoldCoverage)\n",
    "\n",
    "            mergedR1 = mergedR1.append({'chrom':mergedChrom,'start':mergedStart,'end':mergedEnd,'cumulative_coverage':mergedCumCoverage, 'mean_coverage':mergedMeanCoverage,'control_mean_coverage':mergedCtrlMeanCoverage,'FoldEnrichment':mergedFoldCoverage,'logFoldEnrichment':mergedLogFoldCoverage}, ignore_index=True)\n",
    "    except KeyError: #I think this is happening when merging two bins when there were originally more than 2 next to each other?\n",
    "        errors.append(x)\n",
    "print(len(errors))"
   ]
  },
  {
   "cell_type": "code",
   "execution_count": 81,
   "metadata": {
    "collapsed": false
   },
   "outputs": [
    {
     "data": {
      "text/plain": [
       "19639"
      ]
     },
     "execution_count": 81,
     "metadata": {},
     "output_type": "execute_result"
    }
   ],
   "source": [
    "mergedR1.head()\n",
    "len(mergedR1.index)"
   ]
  },
  {
   "cell_type": "code",
   "execution_count": null,
   "metadata": {
    "collapsed": true
   },
   "outputs": [],
   "source": []
  }
 ],
 "metadata": {
  "kernelspec": {
   "display_name": "Python 3",
   "language": "python",
   "name": "python3"
  },
  "language_info": {
   "codemirror_mode": {
    "name": "ipython",
    "version": 3
   },
   "file_extension": ".py",
   "mimetype": "text/x-python",
   "name": "python",
   "nbconvert_exporter": "python",
   "pygments_lexer": "ipython3",
   "version": "3.5.2"
  }
 },
 "nbformat": 4,
 "nbformat_minor": 0
}
