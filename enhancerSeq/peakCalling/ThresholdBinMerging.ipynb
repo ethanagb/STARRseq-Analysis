{
 "cells": [
  {
   "cell_type": "code",
   "execution_count": 2,
   "metadata": {
    "collapsed": true
   },
   "outputs": [],
   "source": [
    "%matplotlib inline \n",
    "import pandas as pd\n",
    "import numpy as np\n",
    "import matplotlib.pyplot as plt\n",
    "import seaborn as sns"
   ]
  },
  {
   "cell_type": "code",
   "execution_count": 4,
   "metadata": {
    "collapsed": false
   },
   "outputs": [
    {
     "name": "stdout",
     "output_type": "stream",
     "text": [
      "619146\n"
     ]
    },
    {
     "data": {
      "text/html": [
       "<div>\n",
       "<table border=\"1\" class=\"dataframe\">\n",
       "  <thead>\n",
       "    <tr style=\"text-align: right;\">\n",
       "      <th></th>\n",
       "      <th>chrom</th>\n",
       "      <th>start</th>\n",
       "      <th>end</th>\n",
       "      <th>cumulative_coverage</th>\n",
       "      <th>mean_coverage</th>\n",
       "      <th>control_mean_coverage</th>\n",
       "    </tr>\n",
       "  </thead>\n",
       "  <tbody>\n",
       "    <tr>\n",
       "      <th>452772</th>\n",
       "      <td>chr13</td>\n",
       "      <td>23790000</td>\n",
       "      <td>23795000</td>\n",
       "      <td>5004</td>\n",
       "      <td>1.0008</td>\n",
       "      <td>1.0094</td>\n",
       "    </tr>\n",
       "    <tr>\n",
       "      <th>476842</th>\n",
       "      <td>chr14</td>\n",
       "      <td>28970000</td>\n",
       "      <td>28975000</td>\n",
       "      <td>5007</td>\n",
       "      <td>1.0014</td>\n",
       "      <td>1.3130</td>\n",
       "    </tr>\n",
       "    <tr>\n",
       "      <th>424939</th>\n",
       "      <td>chr12</td>\n",
       "      <td>18480000</td>\n",
       "      <td>18485000</td>\n",
       "      <td>5013</td>\n",
       "      <td>1.0026</td>\n",
       "      <td>1.1802</td>\n",
       "    </tr>\n",
       "    <tr>\n",
       "      <th>256612</th>\n",
       "      <td>chr7</td>\n",
       "      <td>49385000</td>\n",
       "      <td>49390000</td>\n",
       "      <td>5029</td>\n",
       "      <td>1.0058</td>\n",
       "      <td>1.0712</td>\n",
       "    </tr>\n",
       "    <tr>\n",
       "      <th>467462</th>\n",
       "      <td>chr13</td>\n",
       "      <td>97240000</td>\n",
       "      <td>97245000</td>\n",
       "      <td>5044</td>\n",
       "      <td>1.0088</td>\n",
       "      <td>1.0328</td>\n",
       "    </tr>\n",
       "  </tbody>\n",
       "</table>\n",
       "</div>"
      ],
      "text/plain": [
       "        chrom     start       end  cumulative_coverage  mean_coverage  \\\n",
       "452772  chr13  23790000  23795000                 5004         1.0008   \n",
       "476842  chr14  28970000  28975000                 5007         1.0014   \n",
       "424939  chr12  18480000  18485000                 5013         1.0026   \n",
       "256612   chr7  49385000  49390000                 5029         1.0058   \n",
       "467462  chr13  97240000  97245000                 5044         1.0088   \n",
       "\n",
       "        control_mean_coverage  \n",
       "452772                 1.0094  \n",
       "476842                 1.3130  \n",
       "424939                 1.1802  \n",
       "256612                 1.0712  \n",
       "467462                 1.0328  "
      ]
     },
     "execution_count": 4,
     "metadata": {},
     "output_type": "execute_result"
    }
   ],
   "source": [
    "MINCOVERAGETHRESH = 1\n",
    "df = pd.read_csv(\"/Users/ethanbaker/Grace2/enhancerSeq/analysis/H1WG.SCP1.H1.R2_5kbWindowsVsControl_Calculations.txt\", sep='\\t')\n",
    "print(len(df.index))\n",
    "df.drop(\"log(enhancerSeq/control)\", axis=1, inplace=True)\n",
    "df.sort_values(['mean_coverage','control_mean_coverage'],inplace=True)\n",
    "df.drop(df[df.mean_coverage < MINCOVERAGETHRESH].index,inplace=True)\n",
    "df.drop(df[df.control_mean_coverage < MINCOVERAGETHRESH].index, inplace = True)\n",
    "df.head()"
   ]
  },
  {
   "cell_type": "code",
   "execution_count": 5,
   "metadata": {
    "collapsed": false
   },
   "outputs": [
    {
     "data": {
      "text/plain": [
       "539587"
      ]
     },
     "execution_count": 5,
     "metadata": {},
     "output_type": "execute_result"
    }
   ],
   "source": [
    "len(df.index)"
   ]
  },
  {
   "cell_type": "code",
   "execution_count": 6,
   "metadata": {
    "collapsed": false
   },
   "outputs": [
    {
     "data": {
      "text/html": [
       "<div>\n",
       "<table border=\"1\" class=\"dataframe\">\n",
       "  <thead>\n",
       "    <tr style=\"text-align: right;\">\n",
       "      <th></th>\n",
       "      <th>chrom</th>\n",
       "      <th>start</th>\n",
       "      <th>end</th>\n",
       "      <th>cumulative_coverage</th>\n",
       "      <th>mean_coverage</th>\n",
       "      <th>control_mean_coverage</th>\n",
       "      <th>FoldEnrichment</th>\n",
       "    </tr>\n",
       "  </thead>\n",
       "  <tbody>\n",
       "    <tr>\n",
       "      <th>176329</th>\n",
       "      <td>chr5</td>\n",
       "      <td>10000</td>\n",
       "      <td>15000</td>\n",
       "      <td>49662</td>\n",
       "      <td>9.9324</td>\n",
       "      <td>49.5538</td>\n",
       "      <td>0.200437</td>\n",
       "    </tr>\n",
       "    <tr>\n",
       "      <th>469304</th>\n",
       "      <td>chr13</td>\n",
       "      <td>106450000</td>\n",
       "      <td>106455000</td>\n",
       "      <td>6357</td>\n",
       "      <td>1.2714</td>\n",
       "      <td>2.9280</td>\n",
       "      <td>0.434221</td>\n",
       "    </tr>\n",
       "    <tr>\n",
       "      <th>416743</th>\n",
       "      <td>chr11</td>\n",
       "      <td>112510000</td>\n",
       "      <td>112515000</td>\n",
       "      <td>5524</td>\n",
       "      <td>1.1048</td>\n",
       "      <td>2.5106</td>\n",
       "      <td>0.440054</td>\n",
       "    </tr>\n",
       "    <tr>\n",
       "      <th>37398</th>\n",
       "      <td>chr1</td>\n",
       "      <td>186990000</td>\n",
       "      <td>186995000</td>\n",
       "      <td>6768</td>\n",
       "      <td>1.3536</td>\n",
       "      <td>2.8300</td>\n",
       "      <td>0.478304</td>\n",
       "    </tr>\n",
       "    <tr>\n",
       "      <th>537005</th>\n",
       "      <td>chr17</td>\n",
       "      <td>29545000</td>\n",
       "      <td>29550000</td>\n",
       "      <td>6070</td>\n",
       "      <td>1.2140</td>\n",
       "      <td>2.4574</td>\n",
       "      <td>0.494018</td>\n",
       "    </tr>\n",
       "  </tbody>\n",
       "</table>\n",
       "</div>"
      ],
      "text/plain": [
       "        chrom      start        end  cumulative_coverage  mean_coverage  \\\n",
       "176329   chr5      10000      15000                49662         9.9324   \n",
       "469304  chr13  106450000  106455000                 6357         1.2714   \n",
       "416743  chr11  112510000  112515000                 5524         1.1048   \n",
       "37398    chr1  186990000  186995000                 6768         1.3536   \n",
       "537005  chr17   29545000   29550000                 6070         1.2140   \n",
       "\n",
       "        control_mean_coverage  FoldEnrichment  \n",
       "176329                49.5538        0.200437  \n",
       "469304                 2.9280        0.434221  \n",
       "416743                 2.5106        0.440054  \n",
       "37398                  2.8300        0.478304  \n",
       "537005                 2.4574        0.494018  "
      ]
     },
     "execution_count": 6,
     "metadata": {},
     "output_type": "execute_result"
    }
   ],
   "source": [
    "df['FoldEnrichment'] = df[\"mean_coverage\"]/df[\"control_mean_coverage\"]\n",
    "df.sort_values(\"FoldEnrichment\", inplace=True)\n",
    "df.head()"
   ]
  },
  {
   "cell_type": "code",
   "execution_count": 7,
   "metadata": {
    "collapsed": false
   },
   "outputs": [
    {
     "data": {
      "image/png": "[encoded data removed]",
      "text/plain": [
       "<matplotlib.figure.Figure at 0x11188be10>"
      ]
     },
     "metadata": {},
     "output_type": "display_data"
    }
   ],
   "source": [
    "sns.set(style=\"whitegrid\", context = \"paper\")\n",
    "sns.distplot(df[\"FoldEnrichment\"],color='g')\n",
    "plt.xlabel(\"Fold Enrichment\")\n",
    "plt.show()"
   ]
  },
  {
   "cell_type": "code",
   "execution_count": 8,
   "metadata": {
    "collapsed": false
   },
   "outputs": [
    {
     "data": {
      "image/png": "[encoded data removed]",
      "text/plain": [
       "<matplotlib.figure.Figure at 0x11190da20>"
      ]
     },
     "metadata": {},
     "output_type": "display_data"
    }
   ],
   "source": [
    "plt.clf()\n",
    "sns.set(style=\"whitegrid\", context = \"paper\")\n",
    "sns.boxplot(df[\"FoldEnrichment\"], color='g')\n",
    "plt.xlabel(\"Fold Enrichment\")\n",
    "plt.show()"
   ]
  },
  {
   "cell_type": "code",
   "execution_count": 9,
   "metadata": {
    "collapsed": false
   },
   "outputs": [
    {
     "data": {
      "text/html": [
       "<div>\n",
       "<table border=\"1\" class=\"dataframe\">\n",
       "  <thead>\n",
       "    <tr style=\"text-align: right;\">\n",
       "      <th></th>\n",
       "      <th>chrom</th>\n",
       "      <th>start</th>\n",
       "      <th>end</th>\n",
       "      <th>cumulative_coverage</th>\n",
       "      <th>mean_coverage</th>\n",
       "      <th>control_mean_coverage</th>\n",
       "      <th>FoldEnrichment</th>\n",
       "      <th>logFoldEnrichment</th>\n",
       "    </tr>\n",
       "  </thead>\n",
       "  <tbody>\n",
       "    <tr>\n",
       "      <th>176329</th>\n",
       "      <td>chr5</td>\n",
       "      <td>10000</td>\n",
       "      <td>15000</td>\n",
       "      <td>49662</td>\n",
       "      <td>9.9324</td>\n",
       "      <td>49.5538</td>\n",
       "      <td>0.200437</td>\n",
       "      <td>-1.607257</td>\n",
       "    </tr>\n",
       "    <tr>\n",
       "      <th>469304</th>\n",
       "      <td>chr13</td>\n",
       "      <td>106450000</td>\n",
       "      <td>106455000</td>\n",
       "      <td>6357</td>\n",
       "      <td>1.2714</td>\n",
       "      <td>2.9280</td>\n",
       "      <td>0.434221</td>\n",
       "      <td>-0.834201</td>\n",
       "    </tr>\n",
       "    <tr>\n",
       "      <th>416743</th>\n",
       "      <td>chr11</td>\n",
       "      <td>112510000</td>\n",
       "      <td>112515000</td>\n",
       "      <td>5524</td>\n",
       "      <td>1.1048</td>\n",
       "      <td>2.5106</td>\n",
       "      <td>0.440054</td>\n",
       "      <td>-0.820857</td>\n",
       "    </tr>\n",
       "    <tr>\n",
       "      <th>37398</th>\n",
       "      <td>chr1</td>\n",
       "      <td>186990000</td>\n",
       "      <td>186995000</td>\n",
       "      <td>6768</td>\n",
       "      <td>1.3536</td>\n",
       "      <td>2.8300</td>\n",
       "      <td>0.478304</td>\n",
       "      <td>-0.737509</td>\n",
       "    </tr>\n",
       "    <tr>\n",
       "      <th>537005</th>\n",
       "      <td>chr17</td>\n",
       "      <td>29545000</td>\n",
       "      <td>29550000</td>\n",
       "      <td>6070</td>\n",
       "      <td>1.2140</td>\n",
       "      <td>2.4574</td>\n",
       "      <td>0.494018</td>\n",
       "      <td>-0.705183</td>\n",
       "    </tr>\n",
       "  </tbody>\n",
       "</table>\n",
       "</div>"
      ],
      "text/plain": [
       "        chrom      start        end  cumulative_coverage  mean_coverage  \\\n",
       "176329   chr5      10000      15000                49662         9.9324   \n",
       "469304  chr13  106450000  106455000                 6357         1.2714   \n",
       "416743  chr11  112510000  112515000                 5524         1.1048   \n",
       "37398    chr1  186990000  186995000                 6768         1.3536   \n",
       "537005  chr17   29545000   29550000                 6070         1.2140   \n",
       "\n",
       "        control_mean_coverage  FoldEnrichment  logFoldEnrichment  \n",
       "176329                49.5538        0.200437          -1.607257  \n",
       "469304                 2.9280        0.434221          -0.834201  \n",
       "416743                 2.5106        0.440054          -0.820857  \n",
       "37398                  2.8300        0.478304          -0.737509  \n",
       "537005                 2.4574        0.494018          -0.705183  "
      ]
     },
     "execution_count": 9,
     "metadata": {},
     "output_type": "execute_result"
    }
   ],
   "source": [
    "df[\"logFoldEnrichment\"] = np.log(df[\"FoldEnrichment\"])\n",
    "df.head()"
   ]
  },
  {
   "cell_type": "code",
   "execution_count": 10,
   "metadata": {
    "collapsed": false
   },
   "outputs": [
    {
     "data": {
      "image/png": "[encoded data removed]",
      "text/plain": [
       "<matplotlib.figure.Figure at 0x111954e48>"
      ]
     },
     "metadata": {},
     "output_type": "display_data"
    }
   ],
   "source": [
    "plt.clf()\n",
    "sns.set(style=\"whitegrid\", context = \"paper\")\n",
    "sns.distplot(df[\"logFoldEnrichment\"],color='g')\n",
    "plt.xlabel(\"ln(Fold Enrichment)\")\n",
    "plt.show()"
   ]
  },
  {
   "cell_type": "code",
   "execution_count": 13,
   "metadata": {
    "collapsed": false
   },
   "outputs": [
    {
     "data": {
      "image/png": "[encoded data removed]",
      "text/plain": [
       "<matplotlib.figure.Figure at 0x111c232b0>"
      ]
     },
     "metadata": {},
     "output_type": "display_data"
    }
   ],
   "source": [
    "plt.clf()\n",
    "sns.set(style=\"whitegrid\", context = \"paper\")\n",
    "sns.violinplot(df[\"logFoldEnrichment\"],color='g')\n",
    "plt.xlabel(\"ln(Fold Enrichment)\")\n",
    "plt.show()"
   ]
  },
  {
   "cell_type": "code",
   "execution_count": 15,
   "metadata": {
    "collapsed": false
   },
   "outputs": [
    {
     "name": "stdout",
     "output_type": "stream",
     "text": [
      "107918\n"
     ]
    },
    {
     "name": "stderr",
     "output_type": "stream",
     "text": [
      "/usr/local/lib/python3.5/site-packages/ipykernel/__main__.py:4: SettingWithCopyWarning: \n",
      "A value is trying to be set on a copy of a slice from a DataFrame\n",
      "\n",
      "See the caveats in the documentation: http://pandas.pydata.org/pandas-docs/stable/indexing.html#indexing-view-versus-copy\n"
     ]
    },
    {
     "data": {
      "text/html": [
       "<div>\n",
       "<table border=\"1\" class=\"dataframe\">\n",
       "  <thead>\n",
       "    <tr style=\"text-align: right;\">\n",
       "      <th></th>\n",
       "      <th>chrom</th>\n",
       "      <th>start</th>\n",
       "      <th>end</th>\n",
       "      <th>cumulative_coverage</th>\n",
       "      <th>mean_coverage</th>\n",
       "      <th>control_mean_coverage</th>\n",
       "      <th>FoldEnrichment</th>\n",
       "      <th>logFoldEnrichment</th>\n",
       "    </tr>\n",
       "  </thead>\n",
       "  <tbody>\n",
       "    <tr>\n",
       "      <th>326573</th>\n",
       "      <td>chr8</td>\n",
       "      <td>84775000</td>\n",
       "      <td>84780000</td>\n",
       "      <td>473155</td>\n",
       "      <td>94.6310</td>\n",
       "      <td>1.7362</td>\n",
       "      <td>54.504665</td>\n",
       "      <td>3.998286</td>\n",
       "    </tr>\n",
       "    <tr>\n",
       "      <th>254755</th>\n",
       "      <td>chr7</td>\n",
       "      <td>40100000</td>\n",
       "      <td>40105000</td>\n",
       "      <td>408337</td>\n",
       "      <td>81.6674</td>\n",
       "      <td>4.2536</td>\n",
       "      <td>19.199596</td>\n",
       "      <td>2.954889</td>\n",
       "    </tr>\n",
       "    <tr>\n",
       "      <th>547117</th>\n",
       "      <td>chr17</td>\n",
       "      <td>80105000</td>\n",
       "      <td>80110000</td>\n",
       "      <td>440234</td>\n",
       "      <td>88.0468</td>\n",
       "      <td>5.5686</td>\n",
       "      <td>15.811299</td>\n",
       "      <td>2.760725</td>\n",
       "    </tr>\n",
       "    <tr>\n",
       "      <th>217309</th>\n",
       "      <td>chr6</td>\n",
       "      <td>23990000</td>\n",
       "      <td>23995000</td>\n",
       "      <td>115502</td>\n",
       "      <td>23.1004</td>\n",
       "      <td>1.5574</td>\n",
       "      <td>14.832670</td>\n",
       "      <td>2.696832</td>\n",
       "    </tr>\n",
       "    <tr>\n",
       "      <th>421207</th>\n",
       "      <td>chr11</td>\n",
       "      <td>134830000</td>\n",
       "      <td>134835000</td>\n",
       "      <td>387160</td>\n",
       "      <td>77.4320</td>\n",
       "      <td>5.2648</td>\n",
       "      <td>14.707491</td>\n",
       "      <td>2.688357</td>\n",
       "    </tr>\n",
       "  </tbody>\n",
       "</table>\n",
       "</div>"
      ],
      "text/plain": [
       "        chrom      start        end  cumulative_coverage  mean_coverage  \\\n",
       "326573   chr8   84775000   84780000               473155        94.6310   \n",
       "254755   chr7   40100000   40105000               408337        81.6674   \n",
       "547117  chr17   80105000   80110000               440234        88.0468   \n",
       "217309   chr6   23990000   23995000               115502        23.1004   \n",
       "421207  chr11  134830000  134835000               387160        77.4320   \n",
       "\n",
       "        control_mean_coverage  FoldEnrichment  logFoldEnrichment  \n",
       "326573                 1.7362       54.504665           3.998286  \n",
       "254755                 4.2536       19.199596           2.954889  \n",
       "547117                 5.5686       15.811299           2.760725  \n",
       "217309                 1.5574       14.832670           2.696832  \n",
       "421207                 5.2648       14.707491           2.688357  "
      ]
     },
     "execution_count": 15,
     "metadata": {},
     "output_type": "execute_result"
    }
   ],
   "source": [
    "R1_20th = np.percentile(df[\"logFoldEnrichment\"],80)\n",
    "R1_top20 = df[df.logFoldEnrichment >= R1_20th]\n",
    "print(len(R1_top20.index))\n",
    "R1_top20.sort_values(\"logFoldEnrichment\",inplace=True, ascending=False)\n",
    "R1_top20.head()"
   ]
  },
  {
   "cell_type": "code",
   "execution_count": 16,
   "metadata": {
    "collapsed": false
   },
   "outputs": [
    {
     "name": "stderr",
     "output_type": "stream",
     "text": [
      "/usr/local/lib/python3.5/site-packages/ipykernel/__main__.py:1: SettingWithCopyWarning: \n",
      "A value is trying to be set on a copy of a slice from a DataFrame\n",
      "\n",
      "See the caveats in the documentation: http://pandas.pydata.org/pandas-docs/stable/indexing.html#indexing-view-versus-copy\n",
      "  if __name__ == '__main__':\n"
     ]
    }
   ],
   "source": [
    "R1_top20.sort_values([\"chrom\",\"start\"], inplace=True)\n",
    "R1_top20.head()\n",
    "R1_top20.to_csv('/Users/ethanbaker/Documents/GersteinLab/R2_peakEnrichment.bed', sep = '\\t', header = False, index = False, columns = ['chrom','start','end','FoldEnrichment'])"
   ]
  },
  {
   "cell_type": "code",
   "execution_count": 39,
   "metadata": {
    "collapsed": false
   },
   "outputs": [
    {
     "name": "stdout",
     "output_type": "stream",
     "text": [
      "23186\n"
     ]
    }
   ],
   "source": [
    "R1_top20.index\n",
    "needMerging = []\n",
    "needMergingIndexPosition = []\n",
    "for i in range(len(R1_top20.index)):\n",
    "    if i == 0:\n",
    "        pass\n",
    "    elif R1_top20.index[i] == (R1_top20.index[i-1]+1):\n",
    "        needMerging.append(i)\n",
    "print(len(needMerging))\n",
    "        "
   ]
  },
  {
   "cell_type": "code",
   "execution_count": 74,
   "metadata": {
    "collapsed": false
   },
   "outputs": [
    {
     "name": "stdout",
     "output_type": "stream",
     "text": [
      "395172\n",
      "chrom                      chr11\n",
      "start                    4655000\n",
      "end                      4660000\n",
      "cumulative_coverage       140184\n",
      "mean_coverage            28.0368\n",
      "control_mean_coverage     8.3132\n",
      "FoldEnrichment           3.37256\n",
      "logFoldEnrichment        1.21567\n",
      "Name: 395172, dtype: object\n",
      "1\n",
      "chrom                      chr11\n",
      "start                    4655000\n",
      "end                      4660000\n",
      "cumulative_coverage       140184\n",
      "mean_coverage            28.0368\n",
      "control_mean_coverage     8.3132\n",
      "FoldEnrichment           3.37256\n",
      "logFoldEnrichment        1.21567\n",
      "Name: 395172, dtype: object\n",
      "chrom                       chr11\n",
      "start                     4650000\n",
      "end                       4655000\n",
      "cumulative_coverage         18346\n",
      "mean_coverage              3.6692\n",
      "control_mean_coverage      1.9344\n",
      "FoldEnrichment            1.89682\n",
      "logFoldEnrichment        0.640176\n",
      "Name: 395171, dtype: object\n",
      "chrom                       chr11\n",
      "start                     4650000\n",
      "end                       4655000\n",
      "cumulative_coverage         18346\n",
      "mean_coverage              3.6692\n",
      "control_mean_coverage      1.9344\n",
      "FoldEnrichment            1.89682\n",
      "logFoldEnrichment        0.640176\n",
      "Name: 395171, dtype: object\n"
     ]
    }
   ],
   "source": [
    "#identification of bins + previous bins\n",
    "print(R1_top20.index[13805])\n",
    "print(R1_top20.loc[R1_top20.index[13805]])\n",
    "print(needMerging[0])\n",
    "print(R1_top20.iloc[13805])\n",
    "print(df.loc[R1_top20.iloc[13805].name-1])\n",
    "print(df.loc[395171])"
   ]
  },
  {
   "cell_type": "code",
   "execution_count": 79,
   "metadata": {
    "collapsed": false
   },
   "outputs": [
    {
     "name": "stdout",
     "output_type": "stream",
     "text": [
      "163\n"
     ]
    }
   ],
   "source": [
    "needMergingPriorBin = [n-1 for n in needMerging]\n",
    "mergedR1 = pd.DataFrame(columns=['chrom','start','end','cumulative_coverage','mean_coverage','control_mean_coverage','FoldEnrichment','logFoldEnrichment'])\n",
    "errors = []\n",
    "for x in R1_top20.index:\n",
    "    try:\n",
    "        if x not in needMerging and x not in needMergingPriorBin:\n",
    "            try:\n",
    "                mergedR1 = mergedR1.append(R1_top20.loc[R1_top20.index[x]])\n",
    "            except IndexError:\n",
    "                pass\n",
    "\n",
    "        else:\n",
    "            secondRow = R1_top20.loc[R1_top20.index[x]]\n",
    "            firstRow = df.loc[R1_top20.iloc[int(x)].name-1]\n",
    "            mergedChrom = secondRow.chrom\n",
    "            mergedStart = firstRow.start\n",
    "            mergedEnd = secondRow.end\n",
    "            mergedCumCoverage = (secondRow.cumulative_coverage + firstRow.cumulative_coverage)/float(2)\n",
    "            mergedMeanCoverage = (secondRow.mean_coverage + firstRow.mean_coverage)/float(2)\n",
    "            mergedCtrlMeanCoverage = (secondRow.control_mean_coverage + firstRow.control_mean_coverage)/float(2)\n",
    "            mergedFoldCoverage = (mergedMeanCoverage/mergedCtrlMeanCoverage)\n",
    "            mergedLogFoldCoverage = np.log(mergedFoldCoverage)\n",
    "\n",
    "            mergedR1 = mergedR1.append({'chrom':mergedChrom,'start':mergedStart,'end':mergedEnd,'cumulative_coverage':mergedCumCoverage, 'mean_coverage':mergedMeanCoverage,'control_mean_coverage':mergedCtrlMeanCoverage,'FoldEnrichment':mergedFoldCoverage,'logFoldEnrichment':mergedLogFoldCoverage}, ignore_index=True)\n",
    "    except KeyError: #I think this is happening when merging two bins when there were originally more than 2 next to each other?\n",
    "        errors.append(x)\n",
    "print(len(errors))"
   ]
  },
  {
   "cell_type": "code",
   "execution_count": 81,
   "metadata": {
    "collapsed": false
   },
   "outputs": [
    {
     "data": {
      "text/plain": [
       "19639"
      ]
     },
     "execution_count": 81,
     "metadata": {},
     "output_type": "execute_result"
    }
   ],
   "source": [
    "mergedR1.head()\n",
    "len(mergedR1.index)"
   ]
  },
  {
   "cell_type": "code",
   "execution_count": null,
   "metadata": {
    "collapsed": true
   },
   "outputs": [],
   "source": []
  }
 ],
 "metadata": {
  "kernelspec": {
   "display_name": "Python 3",
   "language": "python",
   "name": "python3"
  },
  "language_info": {
   "codemirror_mode": {
    "name": "ipython",
    "version": 3
   },
   "file_extension": ".py",
   "mimetype": "text/x-python",
   "name": "python",
   "nbconvert_exporter": "python",
   "pygments_lexer": "ipython3",
   "version": "3.5.2"
  }
 },
 "nbformat": 4,
 "nbformat_minor": 0
}
