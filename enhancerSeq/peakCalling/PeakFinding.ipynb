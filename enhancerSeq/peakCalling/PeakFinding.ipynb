{
 "cells": [
  {
   "cell_type": "code",
   "execution_count": 1,
   "metadata": {
    "collapsed": true
   },
   "outputs": [],
   "source": [
    "import pandas as pd\n",
    "import numpy as np"
   ]
  },
  {
   "cell_type": "code",
   "execution_count": 2,
   "metadata": {
    "collapsed": false
   },
   "outputs": [
    {
     "data": {
      "text/html": [
       "<div>\n",
       "<table border=\"1\" class=\"dataframe\">\n",
       "  <thead>\n",
       "    <tr style=\"text-align: right;\">\n",
       "      <th></th>\n",
       "      <th>chrom</th>\n",
       "      <th>start</th>\n",
       "      <th>end</th>\n",
       "      <th>cumulative_coverage</th>\n",
       "      <th>mean_coverage</th>\n",
       "      <th>control_mean_coverage</th>\n",
       "      <th>log(enhancerSeq/control)</th>\n",
       "      <th>FoldChange</th>\n",
       "    </tr>\n",
       "  </thead>\n",
       "  <tbody>\n",
       "    <tr>\n",
       "      <th>1</th>\n",
       "      <td>chr1</td>\n",
       "      <td>5000</td>\n",
       "      <td>10000</td>\n",
       "      <td>3</td>\n",
       "      <td>0.0006</td>\n",
       "      <td>0.0056</td>\n",
       "      <td>-0.970037</td>\n",
       "      <td>-0.970037</td>\n",
       "    </tr>\n",
       "    <tr>\n",
       "      <th>2</th>\n",
       "      <td>chr1</td>\n",
       "      <td>10000</td>\n",
       "      <td>15000</td>\n",
       "      <td>471865</td>\n",
       "      <td>94.3730</td>\n",
       "      <td>37.3234</td>\n",
       "      <td>0.402867</td>\n",
       "      <td>0.402867</td>\n",
       "    </tr>\n",
       "    <tr>\n",
       "      <th>3</th>\n",
       "      <td>chr1</td>\n",
       "      <td>15000</td>\n",
       "      <td>20000</td>\n",
       "      <td>454345</td>\n",
       "      <td>90.8690</td>\n",
       "      <td>37.3428</td>\n",
       "      <td>0.386209</td>\n",
       "      <td>0.386209</td>\n",
       "    </tr>\n",
       "    <tr>\n",
       "      <th>4</th>\n",
       "      <td>chr1</td>\n",
       "      <td>20000</td>\n",
       "      <td>25000</td>\n",
       "      <td>307099</td>\n",
       "      <td>61.4198</td>\n",
       "      <td>27.5938</td>\n",
       "      <td>0.347497</td>\n",
       "      <td>0.347497</td>\n",
       "    </tr>\n",
       "    <tr>\n",
       "      <th>5</th>\n",
       "      <td>chr1</td>\n",
       "      <td>25000</td>\n",
       "      <td>30000</td>\n",
       "      <td>107159</td>\n",
       "      <td>21.4318</td>\n",
       "      <td>10.9186</td>\n",
       "      <td>0.292892</td>\n",
       "      <td>0.292892</td>\n",
       "    </tr>\n",
       "  </tbody>\n",
       "</table>\n",
       "</div>"
      ],
      "text/plain": [
       "  chrom  start    end  cumulative_coverage  mean_coverage  \\\n",
       "1  chr1   5000  10000                    3         0.0006   \n",
       "2  chr1  10000  15000               471865        94.3730   \n",
       "3  chr1  15000  20000               454345        90.8690   \n",
       "4  chr1  20000  25000               307099        61.4198   \n",
       "5  chr1  25000  30000               107159        21.4318   \n",
       "\n",
       "   control_mean_coverage  log(enhancerSeq/control)  FoldChange  \n",
       "1                 0.0056                 -0.970037   -0.970037  \n",
       "2                37.3234                  0.402867    0.402867  \n",
       "3                37.3428                  0.386209    0.386209  \n",
       "4                27.5938                  0.347497    0.347497  \n",
       "5                10.9186                  0.292892    0.292892  "
      ]
     },
     "execution_count": 2,
     "metadata": {},
     "output_type": "execute_result"
    }
   ],
   "source": [
    "R1 = pd.read_csv(\"H1WG.SCP1.H1.R1_5kbWindowsVsControl_Calculations.txt\", sep='\\t')\n",
    "R1['FoldChange']= R1[\"log(enhancerSeq/control)\"]\n",
    "R1.dropna(0,inplace=True)\n",
    "R1.head()"
   ]
  },
  {
   "cell_type": "code",
   "execution_count": 3,
   "metadata": {
    "collapsed": false
   },
   "outputs": [
    {
     "data": {
      "text/html": [
       "<div>\n",
       "<table border=\"1\" class=\"dataframe\">\n",
       "  <thead>\n",
       "    <tr style=\"text-align: right;\">\n",
       "      <th></th>\n",
       "      <th>chrom</th>\n",
       "      <th>start</th>\n",
       "      <th>end</th>\n",
       "      <th>cumulative_coverage</th>\n",
       "      <th>mean_coverage</th>\n",
       "      <th>control_mean_coverage</th>\n",
       "      <th>log(enhancerSeq/control)</th>\n",
       "      <th>FoldChange</th>\n",
       "    </tr>\n",
       "  </thead>\n",
       "  <tbody>\n",
       "    <tr>\n",
       "      <th>17</th>\n",
       "      <td>chr1</td>\n",
       "      <td>85000</td>\n",
       "      <td>90000</td>\n",
       "      <td>89353</td>\n",
       "      <td>17.8706</td>\n",
       "      <td>4.5760</td>\n",
       "      <td>0.591653</td>\n",
       "      <td>0.591653</td>\n",
       "    </tr>\n",
       "    <tr>\n",
       "      <th>53</th>\n",
       "      <td>chr1</td>\n",
       "      <td>265000</td>\n",
       "      <td>270000</td>\n",
       "      <td>9393</td>\n",
       "      <td>1.8786</td>\n",
       "      <td>0.4848</td>\n",
       "      <td>0.588272</td>\n",
       "      <td>0.588272</td>\n",
       "    </tr>\n",
       "    <tr>\n",
       "      <th>68</th>\n",
       "      <td>chr1</td>\n",
       "      <td>340000</td>\n",
       "      <td>345000</td>\n",
       "      <td>14139</td>\n",
       "      <td>2.8278</td>\n",
       "      <td>0.7244</td>\n",
       "      <td>0.591470</td>\n",
       "      <td>0.591470</td>\n",
       "    </tr>\n",
       "    <tr>\n",
       "      <th>106</th>\n",
       "      <td>chr1</td>\n",
       "      <td>530000</td>\n",
       "      <td>535000</td>\n",
       "      <td>461152</td>\n",
       "      <td>92.2304</td>\n",
       "      <td>23.8594</td>\n",
       "      <td>0.587215</td>\n",
       "      <td>0.587215</td>\n",
       "    </tr>\n",
       "    <tr>\n",
       "      <th>193</th>\n",
       "      <td>chr1</td>\n",
       "      <td>965000</td>\n",
       "      <td>970000</td>\n",
       "      <td>410712</td>\n",
       "      <td>82.1424</td>\n",
       "      <td>20.3380</td>\n",
       "      <td>0.606259</td>\n",
       "      <td>0.606259</td>\n",
       "    </tr>\n",
       "  </tbody>\n",
       "</table>\n",
       "</div>"
      ],
      "text/plain": [
       "    chrom   start     end  cumulative_coverage  mean_coverage  \\\n",
       "17   chr1   85000   90000                89353        17.8706   \n",
       "53   chr1  265000  270000                 9393         1.8786   \n",
       "68   chr1  340000  345000                14139         2.8278   \n",
       "106  chr1  530000  535000               461152        92.2304   \n",
       "193  chr1  965000  970000               410712        82.1424   \n",
       "\n",
       "     control_mean_coverage  log(enhancerSeq/control)  FoldChange  \n",
       "17                  4.5760                  0.591653    0.591653  \n",
       "53                  0.4848                  0.588272    0.588272  \n",
       "68                  0.7244                  0.591470    0.591470  \n",
       "106                23.8594                  0.587215    0.587215  \n",
       "193                20.3380                  0.606259    0.606259  "
      ]
     },
     "execution_count": 3,
     "metadata": {},
     "output_type": "execute_result"
    }
   ],
   "source": [
    "R1_10th = np.percentile(R1[\"FoldChange\"],90)\n",
    "R1_top10 = R1[R1.FoldChange >= R1_10th]\n",
    "R1_top10.head()"
   ]
  },
  {
   "cell_type": "code",
   "execution_count": 68,
   "metadata": {
    "collapsed": false
   },
   "outputs": [
    {
     "name": "stdout",
     "output_type": "stream",
     "text": [
      "7466 bins need to be merged.\n",
      "6311 bins are fine.\n",
      "57126\n"
     ]
    }
   ],
   "source": [
    "needMerging = [] #this ends up being an array of the index of values in the R1_top10 index, which is non-consecutive b/c sliced from the R1 index\n",
    "okBins = []\n",
    "mergedR1 = pd.DataFrame(columns=['chrom','start','end','cumulative_coverage','mean_coverage','control_mean_coverage','log(enhancerSeq/control)','FoldChange'])\n",
    "for i in range(len(R1_top10.index)):\n",
    "    if i==0:\n",
    "        pass\n",
    "    else:\n",
    "        if int(R1_top10.index[i]) == int(R1_top10.index[i-1]+1):\n",
    "            #print(\"Bordering Bins!\\t\" + str(i)) #lots of bordering bins\n",
    "            needMerging.append(i)\n",
    "for i in R1_top10.index:\n",
    "    if i not in needMerging:\n",
    "        okBins.append(i)\n",
    "        \n",
    "print(str(len(needMerging)) + \" bins need to be merged.\")\n",
    "print(str(len(okBins)) + \" bins are fine.\")\n",
    "print(len(R1_top10.index))"
   ]
  },
  {
   "cell_type": "code",
   "execution_count": 61,
   "metadata": {
    "collapsed": false
   },
   "outputs": [],
   "source": [
    "for i in range(len(needMerging)):\n",
    "    if i == 0:\n",
    "        pass\n",
    "    else:\n",
    "        secondRow = R1_top10.loc[R1_top10.index[needMerging[i]]]\n",
    "        firstRow = R1_top10.loc[R1_top10.index[needMerging[i]-1]]\n",
    "        \n",
    "        #get values for the new row\n",
    "        mergedChrom = secondRow.chrom\n",
    "        mergedStart = firstRow.start\n",
    "        mergedEnd = secondRow.end\n",
    "        mergedCumCoverage = (secondRow.cumulative_coverage + firstRow.cumulative_coverage)/float(2)\n",
    "        mergedMeanCoverage = (secondRow.mean_coverage + firstRow.mean_coverage)/float(2)\n",
    "        mergedCtrlMeanCoverage = (secondRow.control_mean_coverage + firstRow.control_mean_coverage)/float(2)\n",
    "        mergedLogEnhancer = np.log10(mergedMeanCoverage/mergedCtrlMeanCoverage) #could drop this row\n",
    "        mergedFoldChange = mergedLogEnhancer\n",
    "        \n",
    "        #add to the dataframe\n",
    "        mergedR1 = mergedR1.append({'chrom':mergedChrom,'start':mergedStart,'end':mergedEnd,'cumulative_coverage':mergedCumCoverage, 'mean_coverage':mergedMeanCoverage,'control_mean_coverage':mergedCtrlMeanCoverage,'log(enhancerSeq/control)':mergedLogEnhancer,'FoldChange':mergedFoldChange}, ignore_index=True)\n",
    "        \n",
    "    "
   ]
  },
  {
   "cell_type": "code",
   "execution_count": 63,
   "metadata": {
    "collapsed": false
   },
   "outputs": [],
   "source": [
    "for i in range(len(R1_top10.index)):\n",
    "    if i==0:\n",
    "        mergedR1 = mergedR1.append(R1_top10.loc[R1_top10.index[i]])\n",
    "    else:\n",
    "        if (int(R1_top10.index[i]) != int(R1_top10.index[i-1]+1)):\n",
    "            #print(\"Bordering Bins!\\t\" + str(i)) #lots of bordering bins\n",
    "            mergedR1 = mergedR1.append(R1_top10.loc[R1_top10.index[i]])"
   ]
  },
  {
   "cell_type": "code",
   "execution_count": 64,
   "metadata": {
    "collapsed": false
   },
   "outputs": [
    {
     "data": {
      "text/html": [
       "<div>\n",
       "<table border=\"1\" class=\"dataframe\">\n",
       "  <thead>\n",
       "    <tr style=\"text-align: right;\">\n",
       "      <th></th>\n",
       "      <th>chrom</th>\n",
       "      <th>start</th>\n",
       "      <th>end</th>\n",
       "      <th>cumulative_coverage</th>\n",
       "      <th>mean_coverage</th>\n",
       "      <th>control_mean_coverage</th>\n",
       "      <th>log(enhancerSeq/control)</th>\n",
       "      <th>FoldChange</th>\n",
       "    </tr>\n",
       "  </thead>\n",
       "  <tbody>\n",
       "    <tr>\n",
       "      <th>0</th>\n",
       "      <td>chr1</td>\n",
       "      <td>4870000.0</td>\n",
       "      <td>4880000.0</td>\n",
       "      <td>67582.0</td>\n",
       "      <td>13.5164</td>\n",
       "      <td>3.4011</td>\n",
       "      <td>0.599242</td>\n",
       "      <td>0.599242</td>\n",
       "    </tr>\n",
       "    <tr>\n",
       "      <th>1</th>\n",
       "      <td>chr1</td>\n",
       "      <td>5245000.0</td>\n",
       "      <td>5255000.0</td>\n",
       "      <td>146138.0</td>\n",
       "      <td>29.2276</td>\n",
       "      <td>7.1385</td>\n",
       "      <td>0.612186</td>\n",
       "      <td>0.612186</td>\n",
       "    </tr>\n",
       "    <tr>\n",
       "      <th>2</th>\n",
       "      <td>chr1</td>\n",
       "      <td>5680000.0</td>\n",
       "      <td>5690000.0</td>\n",
       "      <td>172164.5</td>\n",
       "      <td>34.4329</td>\n",
       "      <td>8.4052</td>\n",
       "      <td>0.612426</td>\n",
       "      <td>0.612426</td>\n",
       "    </tr>\n",
       "    <tr>\n",
       "      <th>3</th>\n",
       "      <td>chr1</td>\n",
       "      <td>9480000.0</td>\n",
       "      <td>9490000.0</td>\n",
       "      <td>220383.0</td>\n",
       "      <td>44.0766</td>\n",
       "      <td>10.8717</td>\n",
       "      <td>0.607911</td>\n",
       "      <td>0.607911</td>\n",
       "    </tr>\n",
       "    <tr>\n",
       "      <th>4</th>\n",
       "      <td>chr1</td>\n",
       "      <td>9485000.0</td>\n",
       "      <td>9495000.0</td>\n",
       "      <td>232434.0</td>\n",
       "      <td>46.4868</td>\n",
       "      <td>11.4757</td>\n",
       "      <td>0.607550</td>\n",
       "      <td>0.607550</td>\n",
       "    </tr>\n",
       "  </tbody>\n",
       "</table>\n",
       "</div>"
      ],
      "text/plain": [
       "  chrom      start        end  cumulative_coverage  mean_coverage  \\\n",
       "0  chr1  4870000.0  4880000.0              67582.0        13.5164   \n",
       "1  chr1  5245000.0  5255000.0             146138.0        29.2276   \n",
       "2  chr1  5680000.0  5690000.0             172164.5        34.4329   \n",
       "3  chr1  9480000.0  9490000.0             220383.0        44.0766   \n",
       "4  chr1  9485000.0  9495000.0             232434.0        46.4868   \n",
       "\n",
       "   control_mean_coverage  log(enhancerSeq/control)  FoldChange  \n",
       "0                 3.4011                  0.599242    0.599242  \n",
       "1                 7.1385                  0.612186    0.612186  \n",
       "2                 8.4052                  0.612426    0.612426  \n",
       "3                10.8717                  0.607911    0.607911  \n",
       "4                11.4757                  0.607550    0.607550  "
      ]
     },
     "execution_count": 64,
     "metadata": {},
     "output_type": "execute_result"
    }
   ],
   "source": [
    "mergedR1.head()"
   ]
  },
  {
   "cell_type": "code",
   "execution_count": 65,
   "metadata": {
    "collapsed": false
   },
   "outputs": [
    {
     "data": {
      "text/plain": [
       "1"
      ]
     },
     "execution_count": 65,
     "metadata": {},
     "output_type": "execute_result"
    }
   ],
   "source": [
    "len(R1_top10)-len(mergedR1)"
   ]
  },
  {
   "cell_type": "code",
   "execution_count": null,
   "metadata": {
    "collapsed": true
   },
   "outputs": [],
   "source": []
  }
 ],
 "metadata": {
  "kernelspec": {
   "display_name": "Python 3",
   "language": "python",
   "name": "python3"
  },
  "language_info": {
   "codemirror_mode": {
    "name": "ipython",
    "version": 3
   },
   "file_extension": ".py",
   "mimetype": "text/x-python",
   "name": "python",
   "nbconvert_exporter": "python",
   "pygments_lexer": "ipython3",
   "version": "3.5.2"
  }
 },
 "nbformat": 4,
 "nbformat_minor": 0
}
